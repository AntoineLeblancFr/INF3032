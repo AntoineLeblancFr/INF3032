{
 "cells": [
  {
   "cell_type": "markdown",
   "metadata": {},
   "source": [
    "# INF30.. - Python pour l'ingénieur\n"
   ]
  },
  {
   "cell_type": "markdown",
   "metadata": {},
   "source": [
    "## Exercices de base\n"
   ]
  },
  {
   "cell_type": "markdown",
   "metadata": {},
   "source": [
    "### Exercice 1 \n",
    "Affichez \"Hello, World!\""
   ]
  },
  {
   "cell_type": "code",
   "execution_count": 44,
   "metadata": {},
   "outputs": [
    {
     "name": "stdout",
     "output_type": "stream",
     "text": [
      "Hello, World!\n"
     ]
    }
   ],
   "source": [
    "print(\"Hello, World!\")"
   ]
  },
  {
   "cell_type": "markdown",
   "metadata": {},
   "source": [
    "### Exercice 2\n",
    "Déclarez une variable *var* contenant le message \"Hello, World!\" et affichez son contenu.\n"
   ]
  },
  {
   "cell_type": "code",
   "execution_count": 45,
   "metadata": {},
   "outputs": [
    {
     "name": "stdout",
     "output_type": "stream",
     "text": [
      "Hello, World!\n"
     ]
    }
   ],
   "source": [
    "var = \"Hello, World!\"\n",
    "print(var)"
   ]
  },
  {
   "cell_type": "markdown",
   "metadata": {},
   "source": [
    "### Exercice 3\n",
    "Déclarez deux variables *x* et *y* égaux respectivement à 4 et 32. Affichez dans l'ordre leur somme, y moins x, produit, y divisé par x (division puis quotient et reste), x à la puissance y, y modulo x."
   ]
  },
  {
   "cell_type": "code",
   "execution_count": 46,
   "metadata": {},
   "outputs": [
    {
     "name": "stdout",
     "output_type": "stream",
     "text": [
      "somme: 38\n",
      "différence: -30\n",
      "produit: 136\n",
      "division: 8.5\n",
      "quotient: 8\n",
      "modulo (ou reste): 4\n",
      "puissance: 295147905179352825856\n"
     ]
    }
   ],
   "source": [
    "x, y = 4, 34\n",
    "print(f\"somme: {x + y}\")\n",
    "print(f\"différence: {x - y}\")\n",
    "print(f\"produit: {x * y}\")\n",
    "print(f\"division: {y / x}\")\n",
    "print(f\"quotient: {y // x}\")\n",
    "print(f\"modulo (ou reste): {x % y}\")\n",
    "print(f\"puissance: {x ** y}\")"
   ]
  },
  {
   "cell_type": "markdown",
   "metadata": {},
   "source": [
    "### Exercice 4\n",
    "Définissez une fonction qui retourne \"positif\" si un nombre est positif, \"négatif\" s'il est négatif et \"nul\" s'il est nul."
   ]
  },
  {
   "cell_type": "code",
   "execution_count": 47,
   "metadata": {},
   "outputs": [
    {
     "name": "stdout",
     "output_type": "stream",
     "text": [
      "1 est positif\n"
     ]
    }
   ],
   "source": [
    "def is_positive(x):\n",
    "    if x > 0:\n",
    "        return \"positif\"\n",
    "    elif x < 0:\n",
    "        return \"négatif\"\n",
    "    else:\n",
    "        return \"nul\"\n",
    "    \n",
    "x = 1\n",
    "print(f\"{x} est {is_positive(x)}\")"
   ]
  },
  {
   "cell_type": "markdown",
   "metadata": {},
   "source": [
    "### Exercice 5\n",
    "Définissez une liste et définissez deux fonctions qui affichent les éléments d'une liste : \n",
    "- La première avec une boucle for\n",
    "- La deuxième sans boucle for"
   ]
  },
  {
   "cell_type": "code",
   "execution_count": 48,
   "metadata": {},
   "outputs": [
    {
     "name": "stdout",
     "output_type": "stream",
     "text": [
      "1 2 3 4 5\n"
     ]
    }
   ],
   "source": [
    "from functools import reduce\n",
    "def printListWithFor(myList):\n",
    "    for i in myList:\n",
    "        print(i)\n",
    "    return None # Si on ne met pas de return, la fonction renvoie tout de même None\n",
    "\n",
    "def printlistWithoutFor(myList):\n",
    "    print(*myList) # L'opérateur * en Python est appelé \"unpacking operator\" (opérateur de dépaquetage). Lorsqu'il est utilisé devant une liste, il extrait et passe ses éléments individuellement. Il peut être normalement employer sur n'importe quel itérable (liste, tuple, dictionnaire, enumerate etc.)\n",
    "    #print(\" \".join(map(str, myList))) # Autre méthode\n",
    "    #print(reduce(lambda x, y: f\"{x} {y}\", myList)) # Autre méthode\n",
    "    return None\n",
    "\n",
    "myList = [1, 2, 3, 4, 5]\n",
    "#printListWithFor(myList)\n",
    "printlistWithoutFor(myList)"
   ]
  },
  {
   "cell_type": "markdown",
   "metadata": {},
   "source": [
    "### Exercice 6\n",
    "Définissez une fonction qui prend un nombre et qui demande à l'utilisateur d'écrire un nombre :\n",
    "- Si le nombre < nombre à deviner : affichez \"Trop petit:\" et la valeur du nombre, puis redemandez un nombre\n",
    "- Si le nombre > nombre à deviner : affichez \"Trop grand:\" et la valeur du nombre, puis redemandez un nombre\n",
    "- Si le nombre == nombre à deviner : affichez \"Bravo! Vous avez deviné. C'était bien\" et la valeur du nombre, puis arrêtez de demander un nombre"
   ]
  },
  {
   "cell_type": "code",
   "execution_count": 49,
   "metadata": {},
   "outputs": [
    {
     "name": "stdout",
     "output_type": "stream",
     "text": [
      "Trop grand: 56\n",
      "Trop petit: 39\n",
      "Bravo! Vous avez deviné. C'était bien 42\n"
     ]
    }
   ],
   "source": [
    "def guessNumber(numberToGuess):\n",
    "    while True:\n",
    "        guess = int(input(\"Entrez un nombre: \"))\n",
    "        if guess == numberToGuess:\n",
    "            print(f\"Bravo! Vous avez deviné. C'était bien {numberToGuess}\")\n",
    "            break\n",
    "        elif guess < numberToGuess:\n",
    "            print(f\"Trop petit: {guess}\")\n",
    "        else:\n",
    "            print(f\"Trop grand: {guess}\")\n",
    "    return None\n",
    "\n",
    "numberToGuess = 42\n",
    "guessNumber(numberToGuess)"
   ]
  },
  {
   "cell_type": "markdown",
   "metadata": {},
   "source": [
    "### Exercice 7\n",
    "Définissez une fonction qui retourne le carré d'un nombre"
   ]
  },
  {
   "cell_type": "code",
   "execution_count": 50,
   "metadata": {},
   "outputs": [
    {
     "name": "stdout",
     "output_type": "stream",
     "text": [
      "Le carré de 5 est 25\n"
     ]
    }
   ],
   "source": [
    "def square(x):\n",
    "    return x ** 2\n",
    "\n",
    "x = 5\n",
    "print(f\"Le carré de {x} est {square(x)}\")"
   ]
  },
  {
   "cell_type": "markdown",
   "metadata": {},
   "source": [
    "### Exercice 8\n",
    "Affichez le contenu du fichier texte \"exerice7.txt\""
   ]
  },
  {
   "cell_type": "code",
   "execution_count": 51,
   "metadata": {},
   "outputs": [
    {
     "name": "stdout",
     "output_type": "stream",
     "text": [
      "Lorem ipsum dolor sit amet, consectetur adipiscing elit. Duis varius tristique fermentum. Praesent nec volutpat nunc. Curabitur magna ex, pharetra at magna vel, imperdiet porttitor massa. Nunc vel dui placerat, finibus neque eget, lacinia mauris. Curabitur tincidunt quam in orci elementum dapibus ac eget purus. Maecenas est ligula, volutpat eget bibendum eget, bibendum et ante. Sed pulvinar ac metus convallis accumsan. In dui mi, maximus sed sagittis id, congue at justo. Sed porta eros tristique, volutpat nisl ac, elementum purus. Sed sit amet fermentum risus, in tristique felis. Vivamus laoreet, ante quis consequat rhoncus, nulla mi maximus nulla, ut tincidunt elit ante eget quam. Donec tortor justo, bibendum vitae feugiat sit amet, venenatis ac nulla. Integer non faucibus ipsum.\n",
      "\n",
      "Praesent ac nunc metus. Suspendisse molestie ante libero, non lobortis lorem dapibus vel. Nulla facilisi. Cras bibendum, diam eget vehicula pellentesque, libero nunc lobortis lorem, in efficitur odio risus eget nulla. Phasellus pretium lacus at pharetra mattis. Class aptent taciti sociosqu ad litora torquent per conubia nostra, per inceptos himenaeos. In vitae ligula ipsum. Etiam blandit ac nulla eu venenatis. In eget ultrices massa. Vestibulum ante ipsum primis in faucibus orci luctus et ultrices posuere cubilia curae; Nulla vitae eleifend leo, sit amet ultrices nisi. Mauris id laoreet elit. In eu tortor viverra, volutpat mi nec, iaculis nulla. Proin sed augue quis dui cursus tristique non a quam. Sed sagittis, massa nec pulvinar ornare, est turpis posuere augue, sit amet convallis orci justo non elit.\n",
      "\n",
      "Nullam laoreet condimentum metus, eu accumsan odio lobortis sed. Aenean metus nisl, vehicula rutrum dictum ac, feugiat sit amet lacus. Curabitur a pharetra nibh. Donec varius ante ac erat scelerisque, sed commodo lorem lobortis. Morbi sit amet diam accumsan urna finibus lacinia quis non ante. Cras nec nunc mattis, blandit enim vel, euismod leo. In at orci vitae lectus congue tristique.\n",
      "\n",
      "Interdum et malesuada fames ac ante ipsum primis in faucibus. Proin viverra urna ut dui lacinia rutrum. Nullam quis erat risus. Donec sem risus, volutpat a tincidunt eleifend, egestas eget sapien. Etiam consequat est et erat molestie venenatis. Donec viverra mi eu odio consectetur, non semper nunc pellentesque. Class aptent taciti sociosqu ad litora torquent per conubia nostra, per inceptos himenaeos.\n",
      "\n",
      "Pellentesque eget finibus massa. Morbi ac nulla ante. Proin convallis risus sagittis lectus porttitor, vel aliquet turpis imperdiet. Etiam ut orci sollicitudin risus dapibus suscipit. Nullam in laoreet lectus, in convallis augue. Nullam elementum eros nulla, eu lobortis nisi dapibus id. Suspendisse nec quam tincidunt diam fringilla varius. Vestibulum nec pharetra augue. Mauris tincidunt luctus tortor, eget malesuada libero faucibus eu. Etiam sed imperdiet nunc. Nulla facilisi. Donec ipsum magna, aliquet ut pulvinar sit amet, luctus rutrum magna. Nunc facilisis euismod ante, vel dapibus turpis. Integer quis scelerisque dolor, tempus malesuada magna. In vestibulum dapibus lectus, ullamcorper dictum sem interdum interdum.\n",
      "\n"
     ]
    }
   ],
   "source": [
    "with open(\"exercice7.txt\", \"r\") as file:\n",
    "    for line in file:\n",
    "        print(line, end=\"\")"
   ]
  },
  {
   "cell_type": "markdown",
   "metadata": {},
   "source": [
    "### Exercice 9\n",
    "Implémenter l'algorithme de tri par insertion"
   ]
  },
  {
   "cell_type": "code",
   "execution_count": 52,
   "metadata": {},
   "outputs": [
    {
     "name": "stdout",
     "output_type": "stream",
     "text": [
      "[5, 6, 11, 12, 13]\n"
     ]
    }
   ],
   "source": [
    "def insertion_sort(my_list):\n",
    "    for i in range(len(my_list)):\n",
    "        j = i\n",
    "        while j > 0 and my_list[j] < my_list[j - 1]:\n",
    "            my_list[j], my_list[j - 1] = my_list[j - 1], my_list[j] # On peut échanger les valeurs sur qu'une seule ligne en Python, si on le fait sur deux lignes ça ne fonctionnera pas et il faut retenir la valeur à échanger\n",
    "            j -= 1\n",
    "    return my_list\n",
    "\n",
    "my_list = [12, 11, 13, 5, 6]\n",
    "print(insertion_sort(my_list))"
   ]
  },
  {
   "cell_type": "markdown",
   "metadata": {},
   "source": [
    "### Exercice 10\n",
    "Implémenter une fonction qui calcule le n-ième terme de la suite de Fibonacci : \n",
    "- De manière recursive\n",
    "- De manière itérative\n",
    "\n",
    "Rappels : Suite de Fibonnaci \n",
    "\n",
    "$U_{0} = 0, U_{1} = 1$\n",
    "\n",
    "$U_{n+2} = U_{n+1} + U_{n}$"
   ]
  },
  {
   "cell_type": "code",
   "execution_count": 53,
   "metadata": {},
   "outputs": [
    {
     "name": "stdout",
     "output_type": "stream",
     "text": [
      "Le 10-ième terme de la suite de Fibonacci est 55 (récursif)\n",
      "Le 10-ième terme de la suite de Fibonacci est 55 (itératif)\n"
     ]
    }
   ],
   "source": [
    "def fibonacciRecursive(n):\n",
    "    if n <= 1:\n",
    "        return n\n",
    "    else:\n",
    "        return fibonacciRecursive(n - 1) + fibonacciRecursive(n - 2)\n",
    "    \n",
    "def fibonacciIterative(n):\n",
    "    a, b = 0, 1\n",
    "    for _ in range(n): # On utilise _ pour signifier que la variable n'est pas utilisée\n",
    "        a, b = b, a + b\n",
    "    return a\n",
    "\n",
    "n = 10\n",
    "print(f\"Le {n}-ième terme de la suite de Fibonacci est {fibonacciRecursive(n)} (récursif)\")\n",
    "print(f\"Le {n}-ième terme de la suite de Fibonacci est {fibonacciIterative(n)} (itératif)\")"
   ]
  },
  {
   "cell_type": "markdown",
   "metadata": {},
   "source": [
    "## Exercice sans boucle for ou while"
   ]
  },
  {
   "cell_type": "markdown",
   "metadata": {},
   "source": [
    "### Exercice 11\n",
    "Définissez une fonction qui tri une liste de tuples en fonction du deuxième élément"
   ]
  },
  {
   "cell_type": "code",
   "execution_count": 54,
   "metadata": {},
   "outputs": [
    {
     "name": "stdout",
     "output_type": "stream",
     "text": [
      "[(3, 1), (1, 2), (5, 3), (4, 4), (2, 5)]\n"
     ]
    }
   ],
   "source": [
    "def sortListBySecondElement(myList):\n",
    "    return sorted(myList, key=lambda x: x[1]) # La fonction sorted() prend en argument une liste et une fonction de tri. La fonction de tri est définie par la fonction lambda x: x[1] qui renvoie le deuxième élément de chaque tuple de la liste. La fonction sorted() renvoie une nouvelle liste triée.\n",
    "\n",
    "myList = [(1, 2), (3, 1), (5, 3), (4, 4), (2, 5)]\n",
    "print(sortListBySecondElement(myList))"
   ]
  },
  {
   "cell_type": "markdown",
   "metadata": {},
   "source": [
    "### Exercice 12\n",
    "Définissez une fonction qui transforme une liste de nombres en une liste de leurs carrés"
   ]
  },
  {
   "cell_type": "code",
   "execution_count": 55,
   "metadata": {},
   "outputs": [
    {
     "name": "stdout",
     "output_type": "stream",
     "text": [
      "[1, 4, 9, 16, 25]\n"
     ]
    }
   ],
   "source": [
    "def squareList(myList):\n",
    "    return list(map(lambda x: x ** 2, myList)) # map() renvoie un objet map (un itérable) qui est ensuite converti en liste\n",
    "\n",
    "myList = [1, 2, 3, 4, 5]\n",
    "print(squareList(myList))"
   ]
  },
  {
   "cell_type": "markdown",
   "metadata": {},
   "source": [
    "### Exercice 13\n",
    "Définissez une fonction qui filtre une liste pour ne garder que les nombres pairs"
   ]
  },
  {
   "cell_type": "code",
   "execution_count": 56,
   "metadata": {},
   "outputs": [
    {
     "name": "stdout",
     "output_type": "stream",
     "text": [
      "[2, 4]\n"
     ]
    }
   ],
   "source": [
    "def filterEvenNumbers(myList):\n",
    "    return list(filter(lambda x: x % 2 == 0, myList)) \n",
    "\n",
    "myList = [1, 2, 3, 4, 5]\n",
    "print(filterEvenNumbers(myList))"
   ]
  },
  {
   "cell_type": "markdown",
   "metadata": {},
   "source": [
    "### Exercice 14\n",
    "Définissez une fonction qui calcule le produit des éléments d'une liste "
   ]
  },
  {
   "cell_type": "code",
   "execution_count": 57,
   "metadata": {},
   "outputs": [
    {
     "name": "stdout",
     "output_type": "stream",
     "text": [
      "120\n"
     ]
    }
   ],
   "source": [
    "#from functools import reduce # Pas besoin de le réimporter si vous l'avez déjà importé avant\n",
    "def computeProduct(myList):\n",
    "    return reduce(lambda x, y: x * y, myList) \n",
    "\n",
    "myList = [1, 2, 3, 4, 5]\n",
    "print(computeProduct(myList))"
   ]
  },
  {
   "cell_type": "markdown",
   "metadata": {},
   "source": [
    "### Exercice 15\n",
    "Définissez une fonction qui extrait les voyelles d'une chaîne"
   ]
  },
  {
   "cell_type": "code",
   "execution_count": 58,
   "metadata": {},
   "outputs": [
    {
     "name": "stdout",
     "output_type": "stream",
     "text": [
      "['e', 'o', 'o']\n"
     ]
    }
   ],
   "source": [
    "def extractVowels(myString):\n",
    "    return list(filter(lambda x: x in \"aeiouy\", myString)) \n",
    "\n",
    "myString = \"Hello, World!\"\n",
    "print(extractVowels(myString))"
   ]
  },
  {
   "cell_type": "markdown",
   "metadata": {},
   "source": [
    "### Exercice 16\n",
    "Définissez une fonction qui fusionne deux listes sans boucle for"
   ]
  },
  {
   "cell_type": "code",
   "execution_count": 59,
   "metadata": {},
   "outputs": [
    {
     "name": "stdout",
     "output_type": "stream",
     "text": [
      "[1, 2, 3, 4, 5, 6]\n"
     ]
    }
   ],
   "source": [
    "def mergeLists(list1, list2):\n",
    "    return list1 + list2 # Autre méthode: return list1.extend(list2)\n",
    "\n",
    "list1 = [1, 2, 3]\n",
    "list2 = [4, 5, 6]\n",
    "print(mergeLists(list1, list2))"
   ]
  },
  {
   "cell_type": "markdown",
   "metadata": {},
   "source": [
    "### Exercice 17\n",
    "Définissez une fonction qui supprime les doublons d'une liste"
   ]
  },
  {
   "cell_type": "code",
   "execution_count": 60,
   "metadata": {},
   "outputs": [
    {
     "name": "stdout",
     "output_type": "stream",
     "text": [
      "[1, 2, 3, 4, 5]\n"
     ]
    }
   ],
   "source": [
    "def removeDuplicates(myList):\n",
    "    return list(set(myList)) # set() crée un ensemble (ensemble en anglais) qui ne contient pas de doublons\n",
    "\n",
    "myList = [1, 2, 3, 1, 2, 3, 4, 5]\n",
    "print(removeDuplicates(myList))"
   ]
  },
  {
   "cell_type": "markdown",
   "metadata": {},
   "source": [
    "### Exercice 18\n",
    "Définissez une fonction qui trouve l'élément maximal d'une liste"
   ]
  },
  {
   "cell_type": "code",
   "execution_count": 61,
   "metadata": {},
   "outputs": [
    {
     "name": "stdout",
     "output_type": "stream",
     "text": [
      "5\n"
     ]
    }
   ],
   "source": [
    "def findMaxElement(myList):\n",
    "    return max(myList) # Ou return sorted(myList)[-1]\n",
    "\n",
    "myList = [1, 2, 3, 4, 5]\n",
    "print(findMaxElement(myList))"
   ]
  },
  {
   "cell_type": "markdown",
   "metadata": {},
   "source": [
    "### Exercice 19\n",
    "Définissez une fonction qui compte les occurrences d'un élément"
   ]
  },
  {
   "cell_type": "code",
   "execution_count": 62,
   "metadata": {},
   "outputs": [
    {
     "name": "stdout",
     "output_type": "stream",
     "text": [
      "2\n"
     ]
    }
   ],
   "source": [
    "def countOccurrences(myList, element):\n",
    "    return myList.count(element) # Ou return len(list(filter(lambda x: x == element, myList)))\n",
    "\n",
    "myList = [1, 2, 3, 1, 2, 3, 4, 5]\n",
    "element = 1\n",
    "print(countOccurrences(myList, element))"
   ]
  },
  {
   "cell_type": "markdown",
   "metadata": {},
   "source": [
    "### Exercice 20\n",
    "Écrivez une fonction qui prend une expression mathématique sous forme de chaîne (ex: \"3 + 4 - 2 + 7\") et retourne son résultat.\n",
    "Contraintes :\n",
    "- Pas de boucle for\n",
    "- Pas de eval()\n",
    "- Utiliser la librairie operator\n",
    "- On donne des expressions sans parenthèses et avec uniquement des additions et soustractions pour simplifier\n",
    "\n",
    "Exemple : \n",
    "expression = 3 + 4 * 2 / 7\n",
    "result = evaluate_rpn(expression)\n",
    "print(result)  # 2.0\n",
    "\n",
    "Indice : \n",
    "- La fonction .isdigit() pour vérifier si une chaîne de caractères est float ou un entier\n",
    "- La fonction partial qui permet d'instancier une fonction à partir d'une autre en instanciant partiellement ses paramètres"
   ]
  },
  {
   "cell_type": "code",
   "execution_count": 63,
   "metadata": {},
   "outputs": [
    {
     "name": "stdout",
     "output_type": "stream",
     "text": [
      "16.5\n"
     ]
    }
   ],
   "source": [
    "from functools import reduce, partial\n",
    "import operator\n",
    "\n",
    "def evaluate_expression(expression):\n",
    "    # On vient définir les opérateurs\n",
    "    ops = {\"+\": operator.add, \"-\": operator.sub}\n",
    "    \n",
    "    # On sépare les nombres et les opérateurs\n",
    "    tokens = expression.split(\" \")\n",
    "\n",
    "    # On convertie les nombres en entiers ou floats\n",
    "    values = list(map(lambda x: float(x) if \".\" in x else int(x) if x.isdigit() else ops[x], tokens))\n",
    "    \n",
    "    # Évaluation par priorité (gérer les *, /, ^ avant +, -)\n",
    "    def apply_operation(x, y):\n",
    "        if callable(x):\n",
    "            return x(y)\n",
    "        else:\n",
    "            return partial(y, x)\n",
    "\n",
    "    # Réduction des opérations \n",
    "    return reduce(apply_operation, values)\n",
    "\n",
    "rpn = \"3 + 18.5 + 2 - 7\"\n",
    "print(evaluate_expression(rpn))"
   ]
  },
  {
   "cell_type": "markdown",
   "metadata": {},
   "source": [
    "## Manipulation avec Pandas"
   ]
  },
  {
   "cell_type": "markdown",
   "metadata": {},
   "source": [
    "### Exercice 21\n",
    "Importez pandas et numpy et lisez les données \"airline-safety.csv\" (issu de https://github.com/fivethirtyeight/data/blob/master/airline-safety/airline-safety.csv)\n",
    "\n",
    "C'est un dataset contenant des données d'incidents, d'incidents fatals, fatalities sur deux période : \n",
    "- 1985 à 1999\n",
    "- 2000 à 2014."
   ]
  },
  {
   "cell_type": "code",
   "execution_count": 80,
   "metadata": {},
   "outputs": [
    {
     "data": {
      "text/html": [
       "<div>\n",
       "<style scoped>\n",
       "    .dataframe tbody tr th:only-of-type {\n",
       "        vertical-align: middle;\n",
       "    }\n",
       "\n",
       "    .dataframe tbody tr th {\n",
       "        vertical-align: top;\n",
       "    }\n",
       "\n",
       "    .dataframe thead th {\n",
       "        text-align: right;\n",
       "    }\n",
       "</style>\n",
       "<table border=\"1\" class=\"dataframe\">\n",
       "  <thead>\n",
       "    <tr style=\"text-align: right;\">\n",
       "      <th></th>\n",
       "      <th>airline</th>\n",
       "      <th>avail_seat_km_per_week</th>\n",
       "      <th>incidents_85_99</th>\n",
       "      <th>fatal_accidents_85_99</th>\n",
       "      <th>fatalities_85_99</th>\n",
       "      <th>incidents_00_14</th>\n",
       "      <th>fatal_accidents_00_14</th>\n",
       "      <th>fatalities_00_14</th>\n",
       "    </tr>\n",
       "  </thead>\n",
       "  <tbody>\n",
       "    <tr>\n",
       "      <th>0</th>\n",
       "      <td>Aer Lingus</td>\n",
       "      <td>320906734</td>\n",
       "      <td>2</td>\n",
       "      <td>0</td>\n",
       "      <td>0</td>\n",
       "      <td>0</td>\n",
       "      <td>0</td>\n",
       "      <td>0</td>\n",
       "    </tr>\n",
       "    <tr>\n",
       "      <th>1</th>\n",
       "      <td>Aeroflot*</td>\n",
       "      <td>1197672318</td>\n",
       "      <td>76</td>\n",
       "      <td>14</td>\n",
       "      <td>128</td>\n",
       "      <td>6</td>\n",
       "      <td>1</td>\n",
       "      <td>88</td>\n",
       "    </tr>\n",
       "    <tr>\n",
       "      <th>2</th>\n",
       "      <td>Aerolineas Argentinas</td>\n",
       "      <td>385803648</td>\n",
       "      <td>6</td>\n",
       "      <td>0</td>\n",
       "      <td>0</td>\n",
       "      <td>1</td>\n",
       "      <td>0</td>\n",
       "      <td>0</td>\n",
       "    </tr>\n",
       "    <tr>\n",
       "      <th>3</th>\n",
       "      <td>Aeromexico*</td>\n",
       "      <td>596871813</td>\n",
       "      <td>3</td>\n",
       "      <td>1</td>\n",
       "      <td>64</td>\n",
       "      <td>5</td>\n",
       "      <td>0</td>\n",
       "      <td>0</td>\n",
       "    </tr>\n",
       "    <tr>\n",
       "      <th>4</th>\n",
       "      <td>Air Canada</td>\n",
       "      <td>1865253802</td>\n",
       "      <td>2</td>\n",
       "      <td>0</td>\n",
       "      <td>0</td>\n",
       "      <td>2</td>\n",
       "      <td>0</td>\n",
       "      <td>0</td>\n",
       "    </tr>\n",
       "  </tbody>\n",
       "</table>\n",
       "</div>"
      ],
      "text/plain": [
       "                 airline  avail_seat_km_per_week  incidents_85_99  \\\n",
       "0             Aer Lingus               320906734                2   \n",
       "1              Aeroflot*              1197672318               76   \n",
       "2  Aerolineas Argentinas               385803648                6   \n",
       "3            Aeromexico*               596871813                3   \n",
       "4             Air Canada              1865253802                2   \n",
       "\n",
       "   fatal_accidents_85_99  fatalities_85_99  incidents_00_14  \\\n",
       "0                      0                 0                0   \n",
       "1                     14               128                6   \n",
       "2                      0                 0                1   \n",
       "3                      1                64                5   \n",
       "4                      0                 0                2   \n",
       "\n",
       "   fatal_accidents_00_14  fatalities_00_14  \n",
       "0                      0                 0  \n",
       "1                      1                88  \n",
       "2                      0                 0  \n",
       "3                      0                 0  \n",
       "4                      0                 0  "
      ]
     },
     "execution_count": 80,
     "metadata": {},
     "output_type": "execute_result"
    }
   ],
   "source": [
    "import pandas as pd\n",
    "import numpy as np\n",
    "\n",
    "df = pd.read_csv(\"airline-safety.csv\")\n",
    "df.head()"
   ]
  },
  {
   "cell_type": "markdown",
   "metadata": {},
   "source": [
    "### Exercice 22\n",
    "Listez les companies aériennes dans ce dataset"
   ]
  },
  {
   "cell_type": "code",
   "execution_count": 78,
   "metadata": {},
   "outputs": [
    {
     "name": "stdout",
     "output_type": "stream",
     "text": [
      "Aer Lingus Aeroflot* Aerolineas Argentinas Aeromexico* Air Canada Air France Air India* Air New Zealand* Alaska Airlines* Alitalia All Nippon Airways American* Austrian Airlines Avianca British Airways* Cathay Pacific* China Airlines Condor COPA Delta / Northwest* Egyptair El Al Ethiopian Airlines Finnair Garuda Indonesia Gulf Air Hawaiian Airlines Iberia Japan Airlines Kenya Airways KLM* Korean Air LAN Airlines Lufthansa* Malaysia Airlines Pakistan International Philippine Airlines Qantas* Royal Air Maroc SAS* Saudi Arabian Singapore Airlines South African Southwest Airlines Sri Lankan / AirLanka SWISS* TACA TAM TAP - Air Portugal Thai Airways Turkish Airlines United / Continental* US Airways / America West* Vietnam Airlines Virgin Atlantic Xiamen Airlines\n"
     ]
    }
   ],
   "source": [
    "print(*list(df[\"airline\"].values))"
   ]
  },
  {
   "cell_type": "markdown",
   "metadata": {},
   "source": [
    "### Exercice 22\n",
    "Calculer la moyenne, la médiane et l'écart-type du nombre d'incidents entre 1985-1999 et 2000-2014."
   ]
  },
  {
   "cell_type": "code",
   "execution_count": 87,
   "metadata": {},
   "outputs": [
    {
     "name": "stdout",
     "output_type": "stream",
     "text": [
      "La moyenne d'incidents entre 1985 et 1999 est 7.18\n",
      "L'écart-type d'incidents entre 1985 et 1999 est 11.04\n",
      "\n",
      "La moyenne d'accidents entre 1985 et 1999 est 2.18\n",
      "L'écart-type d'accidents entre 1985 et 1999 est 2.86\n",
      "\n",
      "La moyenne de morts entre 1985 et 1999 est 112.41\n",
      "L'écart-type de morts entre 1985 et 1999 est 146.69\n",
      "\n",
      "La moyenne d'incidents entre 2000 et 2014 est 4.12\n",
      "L'écart-type d'incident entre 2000 et 2014 est 4.54\n",
      "\n",
      "La moyenne d'accidents entre 2000 et 2014 est 0.66\n",
      "L'écart-type d'accidents entre 2000 et 2014 est 0.86\n",
      "\n",
      "La moyenne de morts entre 2000 et 2014 est 55.52\n",
      "L'écart-type de morts entre 2000 et 2014 est 111.33\n",
      "\n"
     ]
    }
   ],
   "source": [
    "print(f\"La moyenne d'incidents entre 1985 et 1999 est {round(df['incidents_85_99'].mean(),2)}\")\n",
    "print(f\"L'écart-type d'incidents entre 1985 et 1999 est {round(df['incidents_85_99'].std(),2)}\\n\")\n",
    "\n",
    "print(f\"La moyenne d'accidents entre 1985 et 1999 est {round(df['fatal_accidents_85_99'].mean(),2)}\")\n",
    "print(f\"L'écart-type d'accidents entre 1985 et 1999 est {round(df['fatal_accidents_85_99'].std(),2)}\\n\")\n",
    "\n",
    "print(f\"La moyenne de morts entre 1985 et 1999 est {round(df['fatalities_85_99'].mean(),2)}\")\n",
    "print(f\"L'écart-type de morts entre 1985 et 1999 est {round(df['fatalities_85_99'].std(),2)}\\n\")\n",
    "\n",
    "print(f\"La moyenne d'incidents entre 2000 et 2014 est {round(df['incidents_00_14'].mean(),2)}\")\n",
    "print(f\"L'écart-type d'incident entre 2000 et 2014 est {round(df['incidents_00_14'].std(),2)}\\n\")\n",
    "\n",
    "print(f\"La moyenne d'accidents entre 2000 et 2014 est {round(df['fatal_accidents_00_14'].mean(),2)}\")\n",
    "print(f\"L'écart-type d'accidents entre 2000 et 2014 est {round(df['fatal_accidents_00_14'].std(),2)}\\n\")\n",
    "\n",
    "print(f\"La moyenne de morts entre 2000 et 2014 est {round(df['fatalities_00_14'].mean(),2)}\")\n",
    "print(f\"L'écart-type de morts entre 2000 et 2014 est {round(df['fatalities_00_14'].std(),2)}\\n\")"
   ]
  },
  {
   "cell_type": "markdown",
   "metadata": {},
   "source": [
    "### Exercice 23 \n",
    "Trouver la compagnie avec le plus d'incidents (85-99) : Identifier la compagnie qui a eu le plus d'incidents entre 1985 et 1999."
   ]
  },
  {
   "cell_type": "code",
   "execution_count": 97,
   "metadata": {},
   "outputs": [
    {
     "data": {
      "text/plain": [
       "'Aeroflot*'"
      ]
     },
     "execution_count": 97,
     "metadata": {},
     "output_type": "execute_result"
    }
   ],
   "source": [
    "df[\"airline\"][df[\"incidents_85_99\"].idxmax()]\n",
    "# Ou df[\"airline\"][df[\"incidents_85_99\"] == df[\"incidents_85_99\"].max()].values[0]"
   ]
  },
  {
   "cell_type": "markdown",
   "metadata": {},
   "source": [
    "### Exercice 24\n",
    "Trier les compagnies par nombre total d’incidents (00-14) : Afficher les compagnies triées dans l'ordre décroissant en fonction du nombre total d’incidents entre 2000 et 2014."
   ]
  },
  {
   "cell_type": "code",
   "execution_count": 102,
   "metadata": {},
   "outputs": [
    {
     "data": {
      "text/html": [
       "<div>\n",
       "<style scoped>\n",
       "    .dataframe tbody tr th:only-of-type {\n",
       "        vertical-align: middle;\n",
       "    }\n",
       "\n",
       "    .dataframe tbody tr th {\n",
       "        vertical-align: top;\n",
       "    }\n",
       "\n",
       "    .dataframe thead th {\n",
       "        text-align: right;\n",
       "    }\n",
       "</style>\n",
       "<table border=\"1\" class=\"dataframe\">\n",
       "  <thead>\n",
       "    <tr style=\"text-align: right;\">\n",
       "      <th></th>\n",
       "      <th>airline</th>\n",
       "      <th>avail_seat_km_per_week</th>\n",
       "      <th>incidents_85_99</th>\n",
       "      <th>fatal_accidents_85_99</th>\n",
       "      <th>fatalities_85_99</th>\n",
       "      <th>incidents_00_14</th>\n",
       "      <th>fatal_accidents_00_14</th>\n",
       "      <th>fatalities_00_14</th>\n",
       "    </tr>\n",
       "  </thead>\n",
       "  <tbody>\n",
       "    <tr>\n",
       "      <th>19</th>\n",
       "      <td>Delta / Northwest*</td>\n",
       "      <td>6525658894</td>\n",
       "      <td>24</td>\n",
       "      <td>12</td>\n",
       "      <td>407</td>\n",
       "      <td>24</td>\n",
       "      <td>2</td>\n",
       "      <td>51</td>\n",
       "    </tr>\n",
       "    <tr>\n",
       "      <th>11</th>\n",
       "      <td>American*</td>\n",
       "      <td>5228357340</td>\n",
       "      <td>21</td>\n",
       "      <td>5</td>\n",
       "      <td>101</td>\n",
       "      <td>17</td>\n",
       "      <td>3</td>\n",
       "      <td>416</td>\n",
       "    </tr>\n",
       "    <tr>\n",
       "      <th>51</th>\n",
       "      <td>United / Continental*</td>\n",
       "      <td>7139291291</td>\n",
       "      <td>19</td>\n",
       "      <td>8</td>\n",
       "      <td>319</td>\n",
       "      <td>14</td>\n",
       "      <td>2</td>\n",
       "      <td>109</td>\n",
       "    </tr>\n",
       "  </tbody>\n",
       "</table>\n",
       "</div>"
      ],
      "text/plain": [
       "                  airline  avail_seat_km_per_week  incidents_85_99  \\\n",
       "19     Delta / Northwest*              6525658894               24   \n",
       "11              American*              5228357340               21   \n",
       "51  United / Continental*              7139291291               19   \n",
       "\n",
       "    fatal_accidents_85_99  fatalities_85_99  incidents_00_14  \\\n",
       "19                     12               407               24   \n",
       "11                      5               101               17   \n",
       "51                      8               319               14   \n",
       "\n",
       "    fatal_accidents_00_14  fatalities_00_14  \n",
       "19                      2                51  \n",
       "11                      3               416  \n",
       "51                      2               109  "
      ]
     },
     "execution_count": 102,
     "metadata": {},
     "output_type": "execute_result"
    }
   ],
   "source": [
    "df.sort_values(by=\"incidents_00_14\", ascending=False).head(3)"
   ]
  },
  {
   "cell_type": "markdown",
   "metadata": {},
   "source": [
    "### Exercice 25\n",
    "Compagnies sans accidents mortels : Trouver les compagnies qui n'ont eu aucun accident mortel (dans les deux périodes)."
   ]
  },
  {
   "cell_type": "code",
   "execution_count": 104,
   "metadata": {},
   "outputs": [
    {
     "data": {
      "text/plain": [
       "array(['Aer Lingus', 'Aerolineas Argentinas', 'Air Canada',\n",
       "       'Austrian Airlines', 'British Airways*', 'Cathay Pacific*',\n",
       "       'Finnair', 'Hawaiian Airlines', 'Qantas*', 'Southwest Airlines',\n",
       "       'TAP - Air Portugal', 'Virgin Atlantic'], dtype=object)"
      ]
     },
     "execution_count": 104,
     "metadata": {},
     "output_type": "execute_result"
    }
   ],
   "source": [
    "df['airline'][(df['fatal_accidents_00_14'] == 0) & (df['fatal_accidents_85_99'] == 0)].values"
   ]
  },
  {
   "cell_type": "markdown",
   "metadata": {},
   "source": [
    "### Exercice 26\n",
    "Comparer les incidents entre les deux périodes : Identifier si le nombre moyen d’incidents a augmenté ou diminué entre 1985-1999 et 2000-2014."
   ]
  },
  {
   "cell_type": "code",
   "execution_count": 106,
   "metadata": {},
   "outputs": [
    {
     "name": "stdout",
     "output_type": "stream",
     "text": [
      "Il y a eu plus d'incidents entre 2000 et 2014 qu'entre 1985 et 1999\n"
     ]
    }
   ],
   "source": [
    "result = df['incidents_85_99'] - df['incidents_00_14']\n",
    "if result.mean() > 0:\n",
    "    print(\"Il y a eu plus d'incidents entre 2000 et 2014 qu'entre 1985 et 1999\")\n",
    "else:\n",
    "    print(\"Il y a eu moins d'incidents entre 2000 et 2014 qu'entre 1985 et 1999\")"
   ]
  },
  {
   "cell_type": "markdown",
   "metadata": {},
   "source": [
    "### Exercice 27\n",
    "Taux d’accidents mortels : Calculer le taux d'accidents mortels moyens (les deux périodes comprises)\n",
    "\n",
    "$taux_{accident} = \\frac{fatal_{accidents}}{total_{incidents}}$"
   ]
  },
  {
   "cell_type": "code",
   "execution_count": 108,
   "metadata": {},
   "outputs": [
    {
     "name": "stdout",
     "output_type": "stream",
     "text": [
      "Le taux d'accidents mortels moyen est de 25.27%\n"
     ]
    }
   ],
   "source": [
    "result = (df['fatal_accidents_85_99'] + df['fatal_accidents_00_14']) / (df['incidents_85_99'] + df['incidents_00_14'])\n",
    "print(f\"Le taux d'accidents mortels moyen est de {round(result.mean() * 100, 2)}%\")"
   ]
  },
  {
   "cell_type": "markdown",
   "metadata": {},
   "source": [
    "### Exercice 28\n",
    "Compagnie la plus sûre : Identifier la compagnie ayant le plus grand nombre de sièges-km disponibles par semaine et ayant eu accidents mortels."
   ]
  },
  {
   "cell_type": "code",
   "execution_count": 112,
   "metadata": {},
   "outputs": [
    {
     "name": "stdout",
     "output_type": "stream",
     "text": [
      "Southwest Airlines\n"
     ]
    }
   ],
   "source": [
    "safe_airlines = df[['airline','avail_seat_km_per_week']][(df['fatal_accidents_85_99'] == 0) & (df['fatal_accidents_00_14'] == 0)]\n",
    "max_avail_seat_km_per_week = safe_airlines['avail_seat_km_per_week'].max()\n",
    "print(safe_airlines[safe_airlines['avail_seat_km_per_week'] == max_avail_seat_km_per_week]['airline'].values[0])\n"
   ]
  },
  {
   "cell_type": "markdown",
   "metadata": {},
   "source": [
    "### Exercice 29\n",
    "Distribution des incidents : Réaliser un histogramme du nombre d’incidents par compagnie aérienne pour chaque période.\n",
    "\n",
    "Indice :\n",
    "- Il vous faut importer matplotlib."
   ]
  },
  {
   "cell_type": "code",
   "execution_count": null,
   "metadata": {},
   "outputs": [
    {
     "data": {
      "image/png": "[encoded data removed]",
      "text/plain": [
       "<Figure size 1200x600 with 1 Axes>"
      ]
     },
     "metadata": {},
     "output_type": "display_data"
    }
   ],
   "source": [
    "import matplotlib.pyplot as plt\n",
    "\n",
    "plt.figure(figsize=(12, 6))\n",
    "\n",
    "plt.hist(df[\"incidents_85_99\"], bins=10, alpha=0.5, label=\"Incidents 1985-1999\", edgecolor='black')\n",
    "plt.hist(df[\"incidents_00_14\"], bins=10, alpha=0.5, label=\"Incidents 2000-2014\", edgecolor='black')\n",
    "\n",
    "plt.xlabel(\"Nombre d'incidents\")\n",
    "plt.ylabel(\"Nombre de compagnies\")\n",
    "plt.title(\"Distribution des incidents par compagnie aérienne\")\n",
    "plt.legend()\n",
    "plt.grid(axis='y', linestyle='--', alpha=0.7)\n",
    "\n",
    "plt.show()"
   ]
  },
  {
   "cell_type": "markdown",
   "metadata": {},
   "source": [
    "### Exercice 30\n",
    "Corrélation entre le trafic et les incidents : Vérifier s’il existe une corrélation entre le nombre de sièges-km disponibles et le nombre total d’incidents."
   ]
  },
  {
   "cell_type": "code",
   "execution_count": 118,
   "metadata": {},
   "outputs": [
    {
     "name": "stdout",
     "output_type": "stream",
     "text": [
      "Le nombre de kilomètres de sièges disponibles par semaine et le nombre total d'incidents sont corrélés\n"
     ]
    }
   ],
   "source": [
    "df[\"total_incidents\"] = df[\"incidents_85_99\"] + df[\"incidents_00_14\"]\n",
    "correlation_index = df[[\"avail_seat_km_per_week\", \"total_incidents\"]].corr().values[0][1]\n",
    "if correlation_index > 0:\n",
    "    print(\"Le nombre de kilomètres de sièges disponibles par semaine et le nombre total d'incidents sont corrélés\")\n",
    "else:\n",
    "    print(\"Le nombre de kilomètres de sièges disponibles par semaine et le nombre total d'incidents ne sont pas corrélés\")"
   ]
  },
  {
   "cell_type": "markdown",
   "metadata": {},
   "source": [
    "### Exercice 31\n",
    "Objectif : Donner le nombre de petites, moyennes et grandes companies.\n",
    "On triera le volum trafic selon : \n",
    "- Petites compagnies : < 500 millions de sièges-km par semaine\n",
    "- Moyennes compagnies : entre 500 millions et 1,5 milliard de sièges-km par semaine\n",
    "- Grandes compagnies : > 1,5 milliard de sièges-km par semaine"
   ]
  },
  {
   "cell_type": "code",
   "execution_count": 125,
   "metadata": {},
   "outputs": [
    {
     "name": "stdout",
     "output_type": "stream",
     "text": [
      "company_size\n",
      "medium    21\n",
      "large     19\n",
      "small     16\n"
     ]
    }
   ],
   "source": [
    "def classify_company_size(x):\n",
    "    if x < 500_000_000:\n",
    "        return \"small\"\n",
    "    elif x < 1_500_000_000:\n",
    "        return \"medium\"\n",
    "    else: \n",
    "        return \"large\"\n",
    "\n",
    "df[\"company_size\"] = df[\"avail_seat_km_per_week\"].apply(classify_company_size)\n",
    "print(df[\"company_size\"].value_counts().to_string())"
   ]
  },
  {
   "cell_type": "markdown",
   "metadata": {},
   "source": [
    "### Exercice 31\n",
    "Objectif : Comparer le nombre moyen d’incidents par période (1985-1999 vs 2000-2014) en regroupant les compagnies en fonction de leur volume de trafic.\n",
    "On triera le volum trafic selon : \n",
    "- Petites compagnies : < 500 millions de sièges-km par semaine\n",
    "- Moyennes compagnies : entre 500 millions et 1,5 milliard de sièges-km par semaine\n",
    "- Grandes compagnies : > 1,5 milliard de sièges-km par semaine\n",
    "\n",
    "Indice:\n",
    "- Visualiser ces résultats avec un diagramme en barres."
   ]
  },
  {
   "cell_type": "code",
   "execution_count": 128,
   "metadata": {},
   "outputs": [
    {
     "data": {
      "image/png": "[encoded data removed]",
      "text/plain": [
       "<Figure size 640x480 with 1 Axes>"
      ]
     },
     "metadata": {},
     "output_type": "display_data"
    }
   ],
   "source": [
    "df.groupby(\"company_size\")[\"total_incidents\"].mean().plot(kind='bar', color='skyblue')\n",
    "plt.xlabel(\"Taille de la compagnie\")   \n",
    "plt.ylabel(\"Nombre moyen d'incidents\")\n",
    "plt.title(\"Nombre moyen d'incidents par taille de compagnie\")\n",
    "plt.grid(axis='y', linestyle='--', alpha=0.7)\n",
    "plt.show()"
   ]
  }
 ],
 "metadata": {
  "kernelspec": {
   "display_name": "Python 3",
   "language": "python",
   "name": "python3"
  },
  "language_info": {
   "codemirror_mode": {
    "name": "ipython",
    "version": 3
   },
   "file_extension": ".py",
   "mimetype": "text/x-python",
   "name": "python",
   "nbconvert_exporter": "python",
   "pygments_lexer": "ipython3",
   "version": "3.9.6"
  }
 },
 "nbformat": 4,
 "nbformat_minor": 2
}
