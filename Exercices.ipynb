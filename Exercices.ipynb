{
 "cells": [
  {
   "cell_type": "markdown",
   "metadata": {},
   "source": [
    "# INF3032 - Python pour l'ingénieur\n"
   ]
  },
  {
   "cell_type": "markdown",
   "metadata": {},
   "source": [
    "## Exercices de base\n"
   ]
  },
  {
   "cell_type": "markdown",
   "metadata": {},
   "source": [
    "### Exercice 1 \n",
    "Affichez \"Hello, World!\""
   ]
  },
  {
   "cell_type": "code",
   "execution_count": null,
   "metadata": {},
   "outputs": [],
   "source": []
  },
  {
   "cell_type": "markdown",
   "metadata": {},
   "source": [
    "### Exercice 2\n",
    "Déclarez une variable *var* contenant le message \"Hello, World!\" et affichez son contenu.\n"
   ]
  },
  {
   "cell_type": "code",
   "execution_count": null,
   "metadata": {},
   "outputs": [],
   "source": []
  },
  {
   "cell_type": "markdown",
   "metadata": {},
   "source": [
    "### Exercice 3\n",
    "Déclarez deux variables *x* et *y* égaux respectivement à 4 et 32. Affichez dans l'ordre leur somme, y moins x, produit, y divisé par x (division puis quotient et reste), x à la puissance y, y modulo x."
   ]
  },
  {
   "cell_type": "code",
   "execution_count": null,
   "metadata": {},
   "outputs": [],
   "source": []
  },
  {
   "cell_type": "markdown",
   "metadata": {},
   "source": [
    "### Exercice 4\n",
    "Définissez une fonction qui retourne \"positif\" si un nombre est positif, \"négatif\" s'il est négatif et \"nul\" s'il est nul."
   ]
  },
  {
   "cell_type": "code",
   "execution_count": null,
   "metadata": {},
   "outputs": [],
   "source": []
  },
  {
   "cell_type": "markdown",
   "metadata": {},
   "source": [
    "### Exercice 5\n",
    "Définissez une liste et définissez deux fonctions qui affichent les éléments d'une liste : \n",
    "- La première avec une boucle for\n",
    "- La deuxième sans boucle for"
   ]
  },
  {
   "cell_type": "code",
   "execution_count": null,
   "metadata": {},
   "outputs": [],
   "source": []
  },
  {
   "cell_type": "markdown",
   "metadata": {},
   "source": [
    "### Exercice 6\n",
    "Définissez une fonction qui prend un nombre et qui demande à l'utilisateur d'écrire un nombre :\n",
    "- Si le nombre < nombre à deviner : affichez \"Trop petit:\" et la valeur du nombre, puis redemandez un nombre\n",
    "- Si le nombre > nombre à deviner : affichez \"Trop grand:\" et la valeur du nombre, puis redemandez un nombre\n",
    "- Si le nombre == nombre à deviner : affichez \"Bravo! Vous avez deviné. C'était bien\" et la valeur du nombre, puis arrêtez de demander un nombre"
   ]
  },
  {
   "cell_type": "code",
   "execution_count": null,
   "metadata": {},
   "outputs": [],
   "source": []
  },
  {
   "cell_type": "markdown",
   "metadata": {},
   "source": [
    "### Exercice 7\n",
    "Définissez une fonction qui retourne le carré d'un nombre"
   ]
  },
  {
   "cell_type": "code",
   "execution_count": null,
   "metadata": {},
   "outputs": [],
   "source": []
  },
  {
   "cell_type": "markdown",
   "metadata": {},
   "source": [
    "### Exercice 8\n",
    "Affichez le contenu du fichier texte \"exerice7.txt\""
   ]
  },
  {
   "cell_type": "code",
   "execution_count": null,
   "metadata": {},
   "outputs": [],
   "source": []
  },
  {
   "cell_type": "markdown",
   "metadata": {},
   "source": [
    "### Exercice 9\n",
    "Implémenter l'algorithme de tri par insertion"
   ]
  },
  {
   "cell_type": "code",
   "execution_count": null,
   "metadata": {},
   "outputs": [],
   "source": []
  },
  {
   "cell_type": "markdown",
   "metadata": {},
   "source": [
    "### Exercice 10\n",
    "Implémenter une fonction qui calcule le n-ième terme de la suite de Fibonacci : \n",
    "- De manière recursive\n",
    "- De manière itérative\n",
    "\n",
    "Rappels : Suite de Fibonnaci \n",
    "\n",
    "$U_{0} = 0, U_{1} = 1$\n",
    "\n",
    "$U_{n+2} = U_{n+1} + U_{n}$"
   ]
  },
  {
   "cell_type": "code",
   "execution_count": null,
   "metadata": {},
   "outputs": [],
   "source": []
  },
  {
   "cell_type": "markdown",
   "metadata": {},
   "source": [
    "## Exercice sans boucle for ou while"
   ]
  },
  {
   "cell_type": "markdown",
   "metadata": {},
   "source": [
    "### Exercice 11\n",
    "Définissez une fonction qui tri une liste de tuples en fonction du deuxième élément"
   ]
  },
  {
   "cell_type": "code",
   "execution_count": null,
   "metadata": {},
   "outputs": [],
   "source": []
  },
  {
   "cell_type": "markdown",
   "metadata": {},
   "source": [
    "### Exercice 12\n",
    "Définissez une fonction qui transforme une liste de nombres en une liste de leurs carrés"
   ]
  },
  {
   "cell_type": "code",
   "execution_count": null,
   "metadata": {},
   "outputs": [],
   "source": []
  },
  {
   "cell_type": "markdown",
   "metadata": {},
   "source": [
    "### Exercice 13\n",
    "Définissez une fonction qui filtre une liste pour ne garder que les nombres pairs"
   ]
  },
  {
   "cell_type": "code",
   "execution_count": null,
   "metadata": {},
   "outputs": [],
   "source": []
  },
  {
   "cell_type": "markdown",
   "metadata": {},
   "source": [
    "### Exercice 14\n",
    "Définissez une fonction qui calcule le produit des éléments d'une liste "
   ]
  },
  {
   "cell_type": "code",
   "execution_count": null,
   "metadata": {},
   "outputs": [],
   "source": []
  },
  {
   "cell_type": "markdown",
   "metadata": {},
   "source": [
    "### Exercice 15\n",
    "Définissez une fonction qui extrait les voyelles d'une chaîne"
   ]
  },
  {
   "cell_type": "code",
   "execution_count": null,
   "metadata": {},
   "outputs": [],
   "source": []
  },
  {
   "cell_type": "markdown",
   "metadata": {},
   "source": [
    "### Exercice 16\n",
    "Définissez une fonction qui fusionne deux listes sans boucle for"
   ]
  },
  {
   "cell_type": "code",
   "execution_count": null,
   "metadata": {},
   "outputs": [],
   "source": []
  },
  {
   "cell_type": "markdown",
   "metadata": {},
   "source": [
    "### Exercice 17\n",
    "Définissez une fonction qui supprime les doublons d'une liste"
   ]
  },
  {
   "cell_type": "code",
   "execution_count": null,
   "metadata": {},
   "outputs": [],
   "source": []
  },
  {
   "cell_type": "markdown",
   "metadata": {},
   "source": [
    "### Exercice 18\n",
    "Définissez une fonction qui trouve l'élément maximal d'une liste"
   ]
  },
  {
   "cell_type": "code",
   "execution_count": null,
   "metadata": {},
   "outputs": [],
   "source": []
  },
  {
   "cell_type": "markdown",
   "metadata": {},
   "source": [
    "### Exercice 19\n",
    "Définissez une fonction qui compte les occurrences d'un élément"
   ]
  },
  {
   "cell_type": "code",
   "execution_count": null,
   "metadata": {},
   "outputs": [],
   "source": []
  },
  {
   "cell_type": "markdown",
   "metadata": {},
   "source": [
    "### Exercice 20\n",
    "Écrivez une fonction qui prend une expression mathématique sous forme de chaîne (ex: \"3 + 4 - 2 + 7\") et retourne son résultat.\n",
    "Contraintes :\n",
    "- Pas de boucle for\n",
    "- Pas de eval()\n",
    "- Utiliser la librairie operator\n",
    "- On donne des expressions sans parenthèses et avec uniquement des additions et soustractions pour simplifier\n",
    "\n",
    "Exemple : \n",
    "expression = 3 + 4 * 2 / 7\n",
    "result = evaluate_rpn(expression)\n",
    "print(result)  # 2.0\n",
    "\n",
    "Indice : \n",
    "- La fonction .isdigit() pour vérifier si une chaîne de caractères est float ou un entier\n",
    "- La fonction partial qui permet d'instancier une fonction à partir d'une autre en instanciant partiellement ses paramètres"
   ]
  },
  {
   "cell_type": "code",
   "execution_count": null,
   "metadata": {},
   "outputs": [],
   "source": []
  },
  {
   "cell_type": "markdown",
   "metadata": {},
   "source": [
    "## Manipulation avec Pandas"
   ]
  },
  {
   "cell_type": "markdown",
   "metadata": {},
   "source": [
    "### Exercice 21\n",
    "Importez pandas et lisez les données \"airline-safety.csv\" (issu de https://github.com/fivethirtyeight/data/blob/master/airline-safety/airline-safety.csv)\n",
    "\n",
    "C'est un dataset contenant des données d'incidents, d'incidents fatals, fatalities sur deux période : \n",
    "- 1985 à 1999\n",
    "- 2000 à 2014."
   ]
  },
  {
   "cell_type": "code",
   "execution_count": null,
   "metadata": {},
   "outputs": [],
   "source": []
  },
  {
   "cell_type": "markdown",
   "metadata": {},
   "source": [
    "### Exercice 22\n",
    "Listez les companies aériennes dans ce dataset"
   ]
  },
  {
   "cell_type": "code",
   "execution_count": null,
   "metadata": {},
   "outputs": [],
   "source": []
  },
  {
   "cell_type": "markdown",
   "metadata": {},
   "source": [
    "### Exercice 22\n",
    "Calculer la moyenne, la médiane et l'écart-type du nombre d'incidents entre 1985-1999 et 2000-2014."
   ]
  },
  {
   "cell_type": "code",
   "execution_count": null,
   "metadata": {},
   "outputs": [],
   "source": []
  },
  {
   "cell_type": "markdown",
   "metadata": {},
   "source": [
    "### Exercice 23 \n",
    "Trouver la compagnie avec le plus d'incidents (85-99) : Identifier la compagnie qui a eu le plus d'incidents entre 1985 et 1999."
   ]
  },
  {
   "cell_type": "code",
   "execution_count": null,
   "metadata": {},
   "outputs": [],
   "source": []
  },
  {
   "cell_type": "markdown",
   "metadata": {},
   "source": [
    "### Exercice 24\n",
    "Trier les compagnies par nombre total d’incidents (00-14) : Afficher les compagnies triées dans l'ordre décroissant en fonction du nombre total d’incidents entre 2000 et 2014."
   ]
  },
  {
   "cell_type": "code",
   "execution_count": null,
   "metadata": {},
   "outputs": [],
   "source": []
  },
  {
   "cell_type": "markdown",
   "metadata": {},
   "source": [
    "### Exercice 25\n",
    "Compagnies sans accidents mortels : Trouver les compagnies qui n'ont eu aucun accident mortel (dans les deux périodes)."
   ]
  },
  {
   "cell_type": "code",
   "execution_count": null,
   "metadata": {},
   "outputs": [],
   "source": []
  },
  {
   "cell_type": "markdown",
   "metadata": {},
   "source": [
    "### Exercice 26\n",
    "Comparer les incidents entre les deux périodes : Identifier si le nombre moyen d’incidents a augmenté ou diminué entre 1985-1999 et 2000-2014."
   ]
  },
  {
   "cell_type": "code",
   "execution_count": null,
   "metadata": {},
   "outputs": [],
   "source": []
  },
  {
   "cell_type": "markdown",
   "metadata": {},
   "source": [
    "### Exercice 27\n",
    "Taux d’accidents mortels : Calculer le taux d'accidents mortels moyens (les deux périodes comprises)\n",
    "\n",
    "$taux_{accident} = \\frac{fatal_{accidents}}{total_{incidents}}$"
   ]
  },
  {
   "cell_type": "code",
   "execution_count": null,
   "metadata": {},
   "outputs": [],
   "source": []
  },
  {
   "cell_type": "markdown",
   "metadata": {},
   "source": [
    "### Exercice 28\n",
    "Compagnie la plus sûre : Identifier la compagnie ayant le plus grand nombre de sièges-km disponibles par semaine et ayant eu accidents mortels."
   ]
  },
  {
   "cell_type": "code",
   "execution_count": null,
   "metadata": {},
   "outputs": [],
   "source": []
  },
  {
   "cell_type": "markdown",
   "metadata": {},
   "source": [
    "### Exercice 29\n",
    "Distribution des incidents : Réaliser un histogramme du nombre d’incidents par compagnie aérienne pour chaque période.\n",
    "\n",
    "Indice :\n",
    "- Il vous faut importer matplotlib."
   ]
  },
  {
   "cell_type": "code",
   "execution_count": null,
   "metadata": {},
   "outputs": [],
   "source": []
  },
  {
   "cell_type": "markdown",
   "metadata": {},
   "source": [
    "### Exercice 30\n",
    "Corrélation entre le trafic et les incidents : Vérifier s’il existe une corrélation entre le nombre de sièges-km disponibles et le nombre total d’incidents."
   ]
  },
  {
   "cell_type": "code",
   "execution_count": null,
   "metadata": {},
   "outputs": [],
   "source": []
  },
  {
   "cell_type": "markdown",
   "metadata": {},
   "source": [
    "### Exercice 31\n",
    "Objectif : Donner le nombre de petites, moyennes et grandes companies.\n",
    "On triera le volum trafic selon : \n",
    "- Petites compagnies : < 500 millions de sièges-km par semaine\n",
    "- Moyennes compagnies : entre 500 millions et 1,5 milliard de sièges-km par semaine\n",
    "- Grandes compagnies : > 1,5 milliard de sièges-km par semaine"
   ]
  },
  {
   "cell_type": "code",
   "execution_count": null,
   "metadata": {},
   "outputs": [],
   "source": []
  },
  {
   "cell_type": "markdown",
   "metadata": {},
   "source": [
    "### Exercice 31\n",
    "Objectif : Comparer le nombre moyen d’incidents par période (1985-1999 vs 2000-2014) en regroupant les compagnies en fonction de leur volume de trafic.\n",
    "On triera le volum trafic selon : \n",
    "- Petites compagnies : < 500 millions de sièges-km par semaine\n",
    "- Moyennes compagnies : entre 500 millions et 1,5 milliard de sièges-km par semaine\n",
    "- Grandes compagnies : > 1,5 milliard de sièges-km par semaine\n",
    "\n",
    "Indice:\n",
    "- Visualiser ces résultats avec un diagramme en barres."
   ]
  },
  {
   "cell_type": "code",
   "execution_count": null,
   "metadata": {},
   "outputs": [],
   "source": []
  }
 ],
 "metadata": {
  "kernelspec": {
   "display_name": "Python 3",
   "language": "python",
   "name": "python3"
  },
  "language_info": {
   "codemirror_mode": {
    "name": "ipython",
    "version": 3
   },
   "file_extension": ".py",
   "mimetype": "text/x-python",
   "name": "python",
   "nbconvert_exporter": "python",
   "pygments_lexer": "ipython3",
   "version": "3.9.6"
  }
 },
 "nbformat": 4,
 "nbformat_minor": 2
}
